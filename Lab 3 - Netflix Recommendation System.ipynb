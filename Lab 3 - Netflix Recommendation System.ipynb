{
 "cells": [
  {
   "cell_type": "markdown",
   "id": "f1dbbea6",
   "metadata": {},
   "source": [
    "# *Lab 3 - Netflix Recommendation System*"
   ]
  },
  {
   "cell_type": "code",
   "execution_count": 1,
   "id": "58c5cc7a",
   "metadata": {},
   "outputs": [],
   "source": [
    "# Extrating features from Wikipedia"
   ]
  },
  {
   "cell_type": "code",
   "execution_count": 1,
   "id": "6ea7643e",
   "metadata": {},
   "outputs": [],
   "source": [
    "import pandas as pd\n",
    "import numpy as np"
   ]
  },
  {
   "cell_type": "code",
   "execution_count": 13,
   "id": "ed13b634",
   "metadata": {},
   "outputs": [],
   "source": [
    "link = 'https://en.wikipedia.org/wiki/List_of_American_films_of_2018'"
   ]
  },
  {
   "cell_type": "code",
   "execution_count": 19,
   "id": "570a9275",
   "metadata": {},
   "outputs": [],
   "source": [
    "df1 = pd.read_html(link)[2]\n",
    "df2 = pd.read_html(link)[3]\n",
    "df3 = pd.read_html(link)[4]\n",
    "df4 = pd.read_html(link)[5]"
   ]
  },
  {
   "cell_type": "code",
   "execution_count": 27,
   "id": "e82ce7fe",
   "metadata": {},
   "outputs": [],
   "source": [
    "df = pd.concat([df1,df2,df3,df4]).reset_index(drop=True)"
   ]
  },
  {
   "cell_type": "code",
   "execution_count": 36,
   "id": "b5a54a57",
   "metadata": {},
   "outputs": [],
   "source": [
    "import tmdbv3api\n",
    "import json\n",
    "import requests\n",
    "\n",
    "tmdb = tmdbv3api.TMDb()"
   ]
  },
  {
   "cell_type": "code",
   "execution_count": 37,
   "id": "e2afd39c",
   "metadata": {},
   "outputs": [],
   "source": [
    "apiauth = '22396953bf97d94aad77322a4980e2d4'\n",
    "tmdb.api_key = apiauth"
   ]
  },
  {
   "cell_type": "code",
   "execution_count": 38,
   "id": "123ad811",
   "metadata": {},
   "outputs": [],
   "source": [
    "from tmdbv3api import Movie\n",
    "\n",
    "def get_genre(x):\n",
    "    genres = []\n",
    "    result = Movie().search(x)\n",
    "    movie_id = result[0].id\n",
    "    response = requests.get(f'https://api.themoviedb.org/3/movie/{movie_id}?api_key={tmdb.api_key}')\n",
    "    data_json = response.json()\n",
    "    if data_json['genres']:\n",
    "        for i in range(0, len(data_json['genres'])):\n",
    "            genres.append(data_json['genres'][i]['name'])\n",
    "        return ' '.join(genres)\n",
    "    else:\n",
    "        np.nan"
   ]
  },
  {
   "cell_type": "code",
   "execution_count": 42,
   "id": "c025c41c",
   "metadata": {},
   "outputs": [],
   "source": [
    "# Extract genres"
   ]
  },
  {
   "cell_type": "code",
   "execution_count": 40,
   "id": "65ff0d3d",
   "metadata": {},
   "outputs": [],
   "source": [
    "df['genres'] = df['Title'].apply(lambda x:get_genre(str(x)))"
   ]
  },
  {
   "cell_type": "code",
   "execution_count": 46,
   "id": "5bbc6015",
   "metadata": {},
   "outputs": [],
   "source": [
    "df2018 = df[['Title','Cast and crew','genres']].copy()"
   ]
  },
  {
   "cell_type": "code",
   "execution_count": 56,
   "id": "d8a5d03f",
   "metadata": {},
   "outputs": [],
   "source": [
    "# Extract Director"
   ]
  },
  {
   "cell_type": "code",
   "execution_count": 110,
   "id": "cf8c439c",
   "metadata": {},
   "outputs": [],
   "source": [
    "def get_directors(x):\n",
    "    if '(director)' in x:\n",
    "        return x.split('(director); ')[0]\n",
    "    elif '(director/screenplay)' in x:\n",
    "        return x.split('(director/screenplay); ')[0]\n",
    "    else:\n",
    "        return x.split('(directors); ')[0]"
   ]
  },
  {
   "cell_type": "code",
   "execution_count": 111,
   "id": "bbb3e015",
   "metadata": {},
   "outputs": [],
   "source": [
    "df2018['directors'] = df2018['Cast and crew'].apply(lambda x:get_directors(str(x)))"
   ]
  },
  {
   "cell_type": "code",
   "execution_count": 57,
   "id": "2d262403",
   "metadata": {},
   "outputs": [],
   "source": [
    "# Extract Actor 1"
   ]
  },
  {
   "cell_type": "code",
   "execution_count": 113,
   "id": "337db59f",
   "metadata": {},
   "outputs": [],
   "source": [
    "def get_actor1(x):\n",
    "    if 'screenplay)' in x:\n",
    "        return x.split('screenplay); ')[-1].split(',')[0]"
   ]
  },
  {
   "cell_type": "code",
   "execution_count": 114,
   "id": "61233d7a",
   "metadata": {},
   "outputs": [],
   "source": [
    "df2018['actor_1_name'] = df2018['Cast and crew'].apply(lambda x:get_actor1(str(x)))"
   ]
  },
  {
   "cell_type": "code",
   "execution_count": null,
   "id": "5b63c68e",
   "metadata": {},
   "outputs": [],
   "source": [
    "# Extract Actor 2"
   ]
  },
  {
   "cell_type": "code",
   "execution_count": 104,
   "id": "7ad1039f",
   "metadata": {},
   "outputs": [],
   "source": [
    "def get_actor2(x):\n",
    "    if len(x.split('screenplay);')[-1].split(', '))< 2:\n",
    "        return np.nan\n",
    "    else:\n",
    "        return x.split('screenplay)')[-1].split(',')[1]"
   ]
  },
  {
   "cell_type": "code",
   "execution_count": 105,
   "id": "2b4b0055",
   "metadata": {},
   "outputs": [],
   "source": [
    "df2018['actor_2_name'] = df2018['Cast and crew'].apply(lambda x:get_actor2(str(x)))"
   ]
  },
  {
   "cell_type": "code",
   "execution_count": 106,
   "id": "6ab01e86",
   "metadata": {},
   "outputs": [],
   "source": [
    "# Extract Actor 3"
   ]
  },
  {
   "cell_type": "code",
   "execution_count": 107,
   "id": "e49a14e8",
   "metadata": {},
   "outputs": [],
   "source": [
    "def get_actor3(x):\n",
    "    if len(x.split('screenplay);')[-1].split(', '))< 3:\n",
    "        return np.nan\n",
    "    else:\n",
    "        return x.split('screenplay)')[-1].split(',')[2]"
   ]
  },
  {
   "cell_type": "code",
   "execution_count": 108,
   "id": "436d1fde",
   "metadata": {},
   "outputs": [],
   "source": [
    "df2018['actor_3_name'] = df2018['Cast and crew'].apply(lambda x:get_actor3(str(x)))"
   ]
  },
  {
   "cell_type": "code",
   "execution_count": 118,
   "id": "658e9867",
   "metadata": {},
   "outputs": [],
   "source": [
    "df2018.rename(columns={'Title':'movie_title'}, inplace=True)"
   ]
  },
  {
   "cell_type": "code",
   "execution_count": 121,
   "id": "5575b729",
   "metadata": {},
   "outputs": [],
   "source": [
    "df2018_ = df2018.drop('Cast and crew', axis=1).copy()"
   ]
  },
  {
   "cell_type": "code",
   "execution_count": 130,
   "id": "d1c950c5",
   "metadata": {},
   "outputs": [],
   "source": [
    "df2018_['actor_1_name'].replace(np.nan, 'unknown',inplace=True)"
   ]
  },
  {
   "cell_type": "code",
   "execution_count": 131,
   "id": "1c8be4fc",
   "metadata": {},
   "outputs": [],
   "source": [
    "df2018_['actor_2_name'].replace(np.nan, 'unknown',inplace=True)"
   ]
  },
  {
   "cell_type": "code",
   "execution_count": 132,
   "id": "020ddd3b",
   "metadata": {},
   "outputs": [],
   "source": [
    "df2018_['actor_3_name'].replace(np.nan, 'unknown',inplace=True)"
   ]
  },
  {
   "cell_type": "code",
   "execution_count": 136,
   "id": "28096afc",
   "metadata": {},
   "outputs": [],
   "source": [
    "df2018_['movie_title'] = df2018_['movie_title'].str.lower()"
   ]
  },
  {
   "cell_type": "code",
   "execution_count": 141,
   "id": "0f458e84",
   "metadata": {},
   "outputs": [],
   "source": [
    "df2018_.rename(columns={'directors':'director_name'}, inplace=True)"
   ]
  },
  {
   "cell_type": "code",
   "execution_count": 142,
   "id": "51fe77fc",
   "metadata": {},
   "outputs": [],
   "source": [
    "df2018_['Combined'] = df2018_['movie_title'] + df2018_['actor_1_name']+ df2018_['actor_2_name']+ df2018_['actor_3_name']+df2018_['director_name']+ df2018_['genres']"
   ]
  },
  {
   "cell_type": "code",
   "execution_count": 144,
   "id": "62c870ff",
   "metadata": {},
   "outputs": [
    {
     "data": {
      "text/html": [
       "<div>\n",
       "<style scoped>\n",
       "    .dataframe tbody tr th:only-of-type {\n",
       "        vertical-align: middle;\n",
       "    }\n",
       "\n",
       "    .dataframe tbody tr th {\n",
       "        vertical-align: top;\n",
       "    }\n",
       "\n",
       "    .dataframe thead th {\n",
       "        text-align: right;\n",
       "    }\n",
       "</style>\n",
       "<table border=\"1\" class=\"dataframe\">\n",
       "  <thead>\n",
       "    <tr style=\"text-align: right;\">\n",
       "      <th></th>\n",
       "      <th>movie_title</th>\n",
       "      <th>genres</th>\n",
       "      <th>director_name</th>\n",
       "      <th>actor_1_name</th>\n",
       "      <th>actor_2_name</th>\n",
       "      <th>actor_3_name</th>\n",
       "      <th>Combined</th>\n",
       "    </tr>\n",
       "  </thead>\n",
       "  <tbody>\n",
       "    <tr>\n",
       "      <th>0</th>\n",
       "      <td>insidious: the last key</td>\n",
       "      <td>Horror Mystery Thriller</td>\n",
       "      <td>Adam Robitel</td>\n",
       "      <td>Lin Shaye</td>\n",
       "      <td>Angus Sampson</td>\n",
       "      <td>Leigh Whannell</td>\n",
       "      <td>insidious: the last keyLin Shaye Angus Sampson...</td>\n",
       "    </tr>\n",
       "    <tr>\n",
       "      <th>1</th>\n",
       "      <td>the strange ones</td>\n",
       "      <td>Thriller Drama</td>\n",
       "      <td>Lauren Wolkstein</td>\n",
       "      <td>Alex Pettyfer</td>\n",
       "      <td>James Freedson-Jackson</td>\n",
       "      <td>Emily Althaus</td>\n",
       "      <td>the strange onesAlex Pettyfer James Freedson-J...</td>\n",
       "    </tr>\n",
       "    <tr>\n",
       "      <th>2</th>\n",
       "      <td>stratton</td>\n",
       "      <td>Action Thriller</td>\n",
       "      <td>Simon West</td>\n",
       "      <td>Dominic Cooper</td>\n",
       "      <td>Austin Stowell</td>\n",
       "      <td>Gemma Chan</td>\n",
       "      <td>strattonDominic Cooper Austin Stowell Gemma Ch...</td>\n",
       "    </tr>\n",
       "    <tr>\n",
       "      <th>3</th>\n",
       "      <td>sweet country</td>\n",
       "      <td>Drama Western Thriller</td>\n",
       "      <td>Warwick Thornton</td>\n",
       "      <td>Bryan Brown</td>\n",
       "      <td>Sam Neill</td>\n",
       "      <td>unknown</td>\n",
       "      <td>sweet countryBryan Brown Sam NeillunknownWarwi...</td>\n",
       "    </tr>\n",
       "    <tr>\n",
       "      <th>4</th>\n",
       "      <td>the commuter</td>\n",
       "      <td>Action Thriller Mystery</td>\n",
       "      <td>Jaume Collet-Serra</td>\n",
       "      <td>Liam Neeson</td>\n",
       "      <td>Vera Farmiga</td>\n",
       "      <td>Patrick Wilson</td>\n",
       "      <td>the commuterLiam Neeson Vera Farmiga Patrick W...</td>\n",
       "    </tr>\n",
       "    <tr>\n",
       "      <th>...</th>\n",
       "      <td>...</td>\n",
       "      <td>...</td>\n",
       "      <td>...</td>\n",
       "      <td>...</td>\n",
       "      <td>...</td>\n",
       "      <td>...</td>\n",
       "      <td>...</td>\n",
       "    </tr>\n",
       "    <tr>\n",
       "      <th>269</th>\n",
       "      <td>holmes &amp; watson</td>\n",
       "      <td>Mystery Adventure Comedy Crime</td>\n",
       "      <td>Etan Cohen</td>\n",
       "      <td>Will Ferrell</td>\n",
       "      <td>John C. Reilly</td>\n",
       "      <td>Rebecca Hall</td>\n",
       "      <td>holmes &amp; watsonWill Ferrell John C. Reilly Reb...</td>\n",
       "    </tr>\n",
       "    <tr>\n",
       "      <th>270</th>\n",
       "      <td>vice</td>\n",
       "      <td>Action Crime Thriller</td>\n",
       "      <td>Adam McKay</td>\n",
       "      <td>Christian Bale</td>\n",
       "      <td>Amy Adams</td>\n",
       "      <td>Steve Carell</td>\n",
       "      <td>viceChristian Bale Amy Adams Steve CarellAdam ...</td>\n",
       "    </tr>\n",
       "    <tr>\n",
       "      <th>271</th>\n",
       "      <td>on the basis of sex</td>\n",
       "      <td>Drama History</td>\n",
       "      <td>Mimi Leder</td>\n",
       "      <td>Felicity Jones</td>\n",
       "      <td>Armie Hammer</td>\n",
       "      <td>Justin Theroux</td>\n",
       "      <td>on the basis of sexFelicity Jones Armie Hammer...</td>\n",
       "    </tr>\n",
       "    <tr>\n",
       "      <th>272</th>\n",
       "      <td>destroyer</td>\n",
       "      <td>Documentary</td>\n",
       "      <td>Karyn Kusama</td>\n",
       "      <td>Nicole Kidman</td>\n",
       "      <td>Sebastian Stan</td>\n",
       "      <td>Toby Kebbell</td>\n",
       "      <td>destroyerNicole Kidman Sebastian Stan Toby Keb...</td>\n",
       "    </tr>\n",
       "    <tr>\n",
       "      <th>273</th>\n",
       "      <td>black mirror: bandersnatch</td>\n",
       "      <td>Science Fiction Mystery Drama Thriller TV Movie</td>\n",
       "      <td>David Slade</td>\n",
       "      <td>Fionn Whitehead</td>\n",
       "      <td>Will Poulter</td>\n",
       "      <td>Asim Chaudhry</td>\n",
       "      <td>black mirror: bandersnatchFionn Whitehead Will...</td>\n",
       "    </tr>\n",
       "  </tbody>\n",
       "</table>\n",
       "<p>274 rows × 7 columns</p>\n",
       "</div>"
      ],
      "text/plain": [
       "                    movie_title  ...                                           Combined\n",
       "0       insidious: the last key  ...  insidious: the last keyLin Shaye Angus Sampson...\n",
       "1              the strange ones  ...  the strange onesAlex Pettyfer James Freedson-J...\n",
       "2                      stratton  ...  strattonDominic Cooper Austin Stowell Gemma Ch...\n",
       "3                 sweet country  ...  sweet countryBryan Brown Sam NeillunknownWarwi...\n",
       "4                  the commuter  ...  the commuterLiam Neeson Vera Farmiga Patrick W...\n",
       "..                          ...  ...                                                ...\n",
       "269             holmes & watson  ...  holmes & watsonWill Ferrell John C. Reilly Reb...\n",
       "270                        vice  ...  viceChristian Bale Amy Adams Steve CarellAdam ...\n",
       "271         on the basis of sex  ...  on the basis of sexFelicity Jones Armie Hammer...\n",
       "272                   destroyer  ...  destroyerNicole Kidman Sebastian Stan Toby Keb...\n",
       "273  black mirror: bandersnatch  ...  black mirror: bandersnatchFionn Whitehead Will...\n",
       "\n",
       "[274 rows x 7 columns]"
      ]
     },
     "execution_count": 144,
     "metadata": {},
     "output_type": "execute_result"
    }
   ],
   "source": [
    "df2018_"
   ]
  },
  {
   "cell_type": "code",
   "execution_count": 147,
   "id": "273ad644",
   "metadata": {},
   "outputs": [],
   "source": [
    "df2018_.to_csv('Processed/FinalData2.csv',index = False)"
   ]
  },
  {
   "cell_type": "code",
   "execution_count": null,
   "id": "026744cd",
   "metadata": {},
   "outputs": [],
   "source": []
  }
 ],
 "metadata": {
  "kernelspec": {
   "display_name": "Python 3 (ipykernel)",
   "language": "python",
   "name": "python3"
  },
  "language_info": {
   "codemirror_mode": {
    "name": "ipython",
    "version": 3
   },
   "file_extension": ".py",
   "mimetype": "text/x-python",
   "name": "python",
   "nbconvert_exporter": "python",
   "pygments_lexer": "ipython3",
   "version": "3.9.7"
  }
 },
 "nbformat": 4,
 "nbformat_minor": 5
}
