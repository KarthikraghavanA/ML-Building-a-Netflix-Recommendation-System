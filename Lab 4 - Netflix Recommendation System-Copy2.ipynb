{
 "cells": [
  {
   "cell_type": "markdown",
   "id": "affb81b5",
   "metadata": {},
   "source": [
    "# *Lab 4 - Netflix Recommendation System*"
   ]
  },
  {
   "cell_type": "code",
   "execution_count": 1,
   "id": "afac547e",
   "metadata": {},
   "outputs": [],
   "source": [
    "# Extrating features from Wikipedia"
   ]
  },
  {
   "cell_type": "code",
   "execution_count": 2,
   "id": "27090fbd",
   "metadata": {},
   "outputs": [],
   "source": [
    "import pandas as pd\n",
    "import numpy as np"
   ]
  },
  {
   "cell_type": "code",
   "execution_count": 3,
   "id": "f4675055",
   "metadata": {},
   "outputs": [],
   "source": [
    "link = 'https://en.wikipedia.org/wiki/List_of_American_films_of_2020'"
   ]
  },
  {
   "cell_type": "code",
   "execution_count": 4,
   "id": "767555c0",
   "metadata": {},
   "outputs": [],
   "source": [
    "df1 = pd.read_html(link)[2]\n",
    "df2 = pd.read_html(link)[3]\n",
    "df3 = pd.read_html(link)[4]\n",
    "df4 = pd.read_html(link)[5]"
   ]
  },
  {
   "cell_type": "code",
   "execution_count": 10,
   "id": "989cd177",
   "metadata": {},
   "outputs": [],
   "source": [
    "df = pd.concat([df1,df2,df3,df4]).reset_index(drop=True)"
   ]
  },
  {
   "cell_type": "code",
   "execution_count": 11,
   "id": "2c13d695",
   "metadata": {},
   "outputs": [
    {
     "data": {
      "text/html": [
       "<div>\n",
       "<style scoped>\n",
       "    .dataframe tbody tr th:only-of-type {\n",
       "        vertical-align: middle;\n",
       "    }\n",
       "\n",
       "    .dataframe tbody tr th {\n",
       "        vertical-align: top;\n",
       "    }\n",
       "\n",
       "    .dataframe thead th {\n",
       "        text-align: right;\n",
       "    }\n",
       "</style>\n",
       "<table border=\"1\" class=\"dataframe\">\n",
       "  <thead>\n",
       "    <tr style=\"text-align: right;\">\n",
       "      <th></th>\n",
       "      <th>Opening</th>\n",
       "      <th>Opening.1</th>\n",
       "      <th>Title</th>\n",
       "      <th>Production company</th>\n",
       "      <th>Cast and crew</th>\n",
       "      <th>.mw-parser-output .tooltip-dotted{border-bottom:1px dotted;cursor:help}Ref.</th>\n",
       "      <th>Ref.</th>\n",
       "    </tr>\n",
       "  </thead>\n",
       "  <tbody>\n",
       "    <tr>\n",
       "      <th>0</th>\n",
       "      <td>J A N U A R Y</td>\n",
       "      <td>3</td>\n",
       "      <td>The Grudge</td>\n",
       "      <td>Screen Gems / Stage 6 Films / Ghost House Pict...</td>\n",
       "      <td>Nicolas Pesce (director/screenplay); Andrea Ri...</td>\n",
       "      <td>[2]</td>\n",
       "      <td>NaN</td>\n",
       "    </tr>\n",
       "    <tr>\n",
       "      <th>1</th>\n",
       "      <td>J A N U A R Y</td>\n",
       "      <td>10</td>\n",
       "      <td>Underwater</td>\n",
       "      <td>20th Century Fox / TSG Entertainment / Chernin...</td>\n",
       "      <td>William Eubank (director); Brian Duffield, Ada...</td>\n",
       "      <td>[3]</td>\n",
       "      <td>NaN</td>\n",
       "    </tr>\n",
       "    <tr>\n",
       "      <th>2</th>\n",
       "      <td>J A N U A R Y</td>\n",
       "      <td>10</td>\n",
       "      <td>Like a Boss</td>\n",
       "      <td>Paramount Pictures</td>\n",
       "      <td>Miguel Arteta (director); Sam Pitman, Adam Col...</td>\n",
       "      <td>[4]</td>\n",
       "      <td>NaN</td>\n",
       "    </tr>\n",
       "    <tr>\n",
       "      <th>3</th>\n",
       "      <td>J A N U A R Y</td>\n",
       "      <td>10</td>\n",
       "      <td>Three Christs</td>\n",
       "      <td>IFC Films</td>\n",
       "      <td>Jon Avnet (director/screenplay); Eric Nazarian...</td>\n",
       "      <td>NaN</td>\n",
       "      <td>NaN</td>\n",
       "    </tr>\n",
       "    <tr>\n",
       "      <th>4</th>\n",
       "      <td>J A N U A R Y</td>\n",
       "      <td>10</td>\n",
       "      <td>Inherit the Viper</td>\n",
       "      <td>Barry Films / Tycor International Film Company</td>\n",
       "      <td>Anthony Jerjen (director); Andrew Crabtree (sc...</td>\n",
       "      <td>[5]</td>\n",
       "      <td>NaN</td>\n",
       "    </tr>\n",
       "    <tr>\n",
       "      <th>...</th>\n",
       "      <td>...</td>\n",
       "      <td>...</td>\n",
       "      <td>...</td>\n",
       "      <td>...</td>\n",
       "      <td>...</td>\n",
       "      <td>...</td>\n",
       "      <td>...</td>\n",
       "    </tr>\n",
       "    <tr>\n",
       "      <th>270</th>\n",
       "      <td>D E C E M B E R</td>\n",
       "      <td>25</td>\n",
       "      <td>We Can Be Heroes</td>\n",
       "      <td>Netflix / Troublemaker Studios / Double R Prod...</td>\n",
       "      <td>Robert Rodriguez (director/screenplay); Priyan...</td>\n",
       "      <td>NaN</td>\n",
       "      <td>[241]</td>\n",
       "    </tr>\n",
       "    <tr>\n",
       "      <th>271</th>\n",
       "      <td>D E C E M B E R</td>\n",
       "      <td>25</td>\n",
       "      <td>News of the World</td>\n",
       "      <td>Universal Pictures / Perfect World Pictures</td>\n",
       "      <td>Paul Greengrass (director/screenplay); Luke Da...</td>\n",
       "      <td>NaN</td>\n",
       "      <td>[242]</td>\n",
       "    </tr>\n",
       "    <tr>\n",
       "      <th>272</th>\n",
       "      <td>D E C E M B E R</td>\n",
       "      <td>25</td>\n",
       "      <td>One Night in Miami...</td>\n",
       "      <td>Amazon Studios</td>\n",
       "      <td>Regina King (director); Kemp Powers (screenpla...</td>\n",
       "      <td>NaN</td>\n",
       "      <td>[243]</td>\n",
       "    </tr>\n",
       "    <tr>\n",
       "      <th>273</th>\n",
       "      <td>D E C E M B E R</td>\n",
       "      <td>25</td>\n",
       "      <td>Promising Young Woman</td>\n",
       "      <td>Focus Features / FilmNation Entertainment</td>\n",
       "      <td>Emerald Fennell (director/screenplay); Carey M...</td>\n",
       "      <td>NaN</td>\n",
       "      <td>[244]</td>\n",
       "    </tr>\n",
       "    <tr>\n",
       "      <th>274</th>\n",
       "      <td>D E C E M B E R</td>\n",
       "      <td>30</td>\n",
       "      <td>Pieces of a Woman</td>\n",
       "      <td>Netflix / Bron Studios</td>\n",
       "      <td>Kornél Mundruczó (director); Kata Wéber (scree...</td>\n",
       "      <td>NaN</td>\n",
       "      <td>[245]</td>\n",
       "    </tr>\n",
       "  </tbody>\n",
       "</table>\n",
       "<p>275 rows × 7 columns</p>\n",
       "</div>"
      ],
      "text/plain": [
       "             Opening  Opening.1                  Title  \\\n",
       "0      J A N U A R Y          3             The Grudge   \n",
       "1      J A N U A R Y         10             Underwater   \n",
       "2      J A N U A R Y         10            Like a Boss   \n",
       "3      J A N U A R Y         10          Three Christs   \n",
       "4      J A N U A R Y         10      Inherit the Viper   \n",
       "..               ...        ...                    ...   \n",
       "270  D E C E M B E R         25       We Can Be Heroes   \n",
       "271  D E C E M B E R         25      News of the World   \n",
       "272  D E C E M B E R         25  One Night in Miami...   \n",
       "273  D E C E M B E R         25  Promising Young Woman   \n",
       "274  D E C E M B E R         30      Pieces of a Woman   \n",
       "\n",
       "                                    Production company  \\\n",
       "0    Screen Gems / Stage 6 Films / Ghost House Pict...   \n",
       "1    20th Century Fox / TSG Entertainment / Chernin...   \n",
       "2                                   Paramount Pictures   \n",
       "3                                            IFC Films   \n",
       "4       Barry Films / Tycor International Film Company   \n",
       "..                                                 ...   \n",
       "270  Netflix / Troublemaker Studios / Double R Prod...   \n",
       "271        Universal Pictures / Perfect World Pictures   \n",
       "272                                     Amazon Studios   \n",
       "273          Focus Features / FilmNation Entertainment   \n",
       "274                             Netflix / Bron Studios   \n",
       "\n",
       "                                         Cast and crew  \\\n",
       "0    Nicolas Pesce (director/screenplay); Andrea Ri...   \n",
       "1    William Eubank (director); Brian Duffield, Ada...   \n",
       "2    Miguel Arteta (director); Sam Pitman, Adam Col...   \n",
       "3    Jon Avnet (director/screenplay); Eric Nazarian...   \n",
       "4    Anthony Jerjen (director); Andrew Crabtree (sc...   \n",
       "..                                                 ...   \n",
       "270  Robert Rodriguez (director/screenplay); Priyan...   \n",
       "271  Paul Greengrass (director/screenplay); Luke Da...   \n",
       "272  Regina King (director); Kemp Powers (screenpla...   \n",
       "273  Emerald Fennell (director/screenplay); Carey M...   \n",
       "274  Kornél Mundruczó (director); Kata Wéber (scree...   \n",
       "\n",
       "    .mw-parser-output .tooltip-dotted{border-bottom:1px dotted;cursor:help}Ref.  \\\n",
       "0                                                  [2]                            \n",
       "1                                                  [3]                            \n",
       "2                                                  [4]                            \n",
       "3                                                  NaN                            \n",
       "4                                                  [5]                            \n",
       "..                                                 ...                            \n",
       "270                                                NaN                            \n",
       "271                                                NaN                            \n",
       "272                                                NaN                            \n",
       "273                                                NaN                            \n",
       "274                                                NaN                            \n",
       "\n",
       "      Ref.  \n",
       "0      NaN  \n",
       "1      NaN  \n",
       "2      NaN  \n",
       "3      NaN  \n",
       "4      NaN  \n",
       "..     ...  \n",
       "270  [241]  \n",
       "271  [242]  \n",
       "272  [243]  \n",
       "273  [244]  \n",
       "274  [245]  \n",
       "\n",
       "[275 rows x 7 columns]"
      ]
     },
     "execution_count": 11,
     "metadata": {},
     "output_type": "execute_result"
    }
   ],
   "source": [
    "df"
   ]
  },
  {
   "cell_type": "code",
   "execution_count": 6,
   "id": "841fc3aa",
   "metadata": {},
   "outputs": [],
   "source": [
    "import tmdbv3api\n",
    "import json\n",
    "import requests\n",
    "\n",
    "tmdb = tmdbv3api.TMDb()"
   ]
  },
  {
   "cell_type": "code",
   "execution_count": 7,
   "id": "1368f8a3",
   "metadata": {},
   "outputs": [],
   "source": [
    "apiauth = '22396953bf97d94aad77322a4980e2d4'\n",
    "tmdb.api_key = apiauth"
   ]
  },
  {
   "cell_type": "code",
   "execution_count": 8,
   "id": "4085cb27",
   "metadata": {},
   "outputs": [],
   "source": [
    "from tmdbv3api import Movie\n",
    "\n",
    "def get_genre(x):\n",
    "    genres = []\n",
    "    result = Movie().search(x)\n",
    "    movie_id = result[0].id\n",
    "    response = requests.get(f'https://api.themoviedb.org/3/movie/{movie_id}?api_key={tmdb.api_key}')\n",
    "    data_json = response.json()\n",
    "    if data_json['genres']:\n",
    "        for i in range(0, len(data_json['genres'])):\n",
    "            genres.append(data_json['genres'][i]['name'])\n",
    "        return ' '.join(genres)\n",
    "    else:\n",
    "        np.nan"
   ]
  },
  {
   "cell_type": "code",
   "execution_count": 9,
   "id": "4dcc80b3",
   "metadata": {},
   "outputs": [],
   "source": [
    "# Extract genres"
   ]
  },
  {
   "cell_type": "code",
   "execution_count": 10,
   "id": "60cac69b",
   "metadata": {},
   "outputs": [],
   "source": [
    "df['genres'] = df['Title'].apply(lambda x:get_genre(str(x)))"
   ]
  },
  {
   "cell_type": "code",
   "execution_count": 11,
   "id": "24fa6ebb",
   "metadata": {},
   "outputs": [],
   "source": [
    "df2019 = df[['Title','Cast and crew','genres']].copy()"
   ]
  },
  {
   "cell_type": "code",
   "execution_count": 12,
   "id": "40179174",
   "metadata": {},
   "outputs": [],
   "source": [
    "# Extract Director"
   ]
  },
  {
   "cell_type": "code",
   "execution_count": 13,
   "id": "73b2c9aa",
   "metadata": {},
   "outputs": [],
   "source": [
    "def get_directors(x):\n",
    "    if '(director)' in x:\n",
    "        return x.split('(director); ')[0]\n",
    "    elif '(director/screenplay)' in x:\n",
    "        return x.split('(director/screenplay); ')[0]\n",
    "    else:\n",
    "        return x.split('(directors); ')[0]"
   ]
  },
  {
   "cell_type": "code",
   "execution_count": 14,
   "id": "5d299a6a",
   "metadata": {},
   "outputs": [],
   "source": [
    "df2019['directors'] = df2019['Cast and crew'].apply(lambda x:get_directors(str(x)))"
   ]
  },
  {
   "cell_type": "code",
   "execution_count": 15,
   "id": "992078f9",
   "metadata": {},
   "outputs": [],
   "source": [
    "# Extract Actor 1"
   ]
  },
  {
   "cell_type": "code",
   "execution_count": 16,
   "id": "72ba9e14",
   "metadata": {},
   "outputs": [],
   "source": [
    "def get_actor1(x):\n",
    "    if 'screenplay)' in x:\n",
    "        return x.split('screenplay); ')[-1].split(',')[0]"
   ]
  },
  {
   "cell_type": "code",
   "execution_count": 17,
   "id": "893b87e6",
   "metadata": {},
   "outputs": [],
   "source": [
    "df2019['actor_1_name'] = df2019['Cast and crew'].apply(lambda x:get_actor1(str(x)))"
   ]
  },
  {
   "cell_type": "code",
   "execution_count": 18,
   "id": "6a58e8b8",
   "metadata": {},
   "outputs": [],
   "source": [
    "# Extract Actor 2"
   ]
  },
  {
   "cell_type": "code",
   "execution_count": 27,
   "id": "f8f65016",
   "metadata": {},
   "outputs": [],
   "source": [
    "def get_actor2(x):\n",
    "    if len(x.split('screenplay);')[-1].split(', '))< 2:\n",
    "        return np.nan\n",
    "    else:\n",
    "        return x.split('screenplay);')[-1].split(',')[1]"
   ]
  },
  {
   "cell_type": "code",
   "execution_count": 28,
   "id": "128d24f3",
   "metadata": {},
   "outputs": [
    {
     "data": {
      "text/plain": [
       "0      Adam Robitel (director); Bragi F. Schut, Maria...\n",
       "1      Jen McGowan (director); Julie Lipson (screenpl...\n",
       "2      Wilson Coneybeare (director/screenplay); Donal...\n",
       "3      Charles Martin Smith (director); W. Bruce Came...\n",
       "4      Neil Burger (director); Jon Hartmere (screenpl...\n",
       "                             ...                        \n",
       "240    Nick Bruno, Troy Quane (directors); Brad Copel...\n",
       "241    Greta Gerwig (director/screenplay); Saoirse Ro...\n",
       "242    Sam Mendes (director/screenplay); Krysty Wilso...\n",
       "243    Destin Daniel Cretton (director/screenplay), A...\n",
       "244    Chinonye Chukwu (director/screenplay); Alfre W...\n",
       "Name: Cast and crew, Length: 245, dtype: object"
      ]
     },
     "execution_count": 28,
     "metadata": {},
     "output_type": "execute_result"
    }
   ],
   "source": [
    "df2019['Cast and crew']"
   ]
  },
  {
   "cell_type": "code",
   "execution_count": 29,
   "id": "3fcc750a",
   "metadata": {},
   "outputs": [],
   "source": [
    "df2019['actor_2_name'] = df2019['Cast and crew'].apply(lambda x:get_actor2(str(x)))"
   ]
  },
  {
   "cell_type": "code",
   "execution_count": 30,
   "id": "7f4580f9",
   "metadata": {},
   "outputs": [
    {
     "data": {
      "text/plain": [
       "0               Logan Miller\n",
       "1                Jay Paulson\n",
       "2         Vincent Kartheiser\n",
       "3         Edward James Olmos\n",
       "4                 Kevin Hart\n",
       "               ...          \n",
       "240              Tom Holland\n",
       "241              Emma Watson\n",
       "242     Dean-Charles Chapman\n",
       "243               Jamie Foxx\n",
       "244           Wendell Pierce\n",
       "Name: actor_2_name, Length: 245, dtype: object"
      ]
     },
     "execution_count": 30,
     "metadata": {},
     "output_type": "execute_result"
    }
   ],
   "source": [
    "df2019['actor_2_name']"
   ]
  },
  {
   "cell_type": "code",
   "execution_count": null,
   "id": "dbd7c881",
   "metadata": {},
   "outputs": [],
   "source": [
    "# Extract Actor 3"
   ]
  },
  {
   "cell_type": "code",
   "execution_count": 31,
   "id": "d793b71e",
   "metadata": {},
   "outputs": [],
   "source": [
    "def get_actor3(x):\n",
    "    if len(x.split('screenplay);')[-1].split(', '))< 3:\n",
    "        return np.nan\n",
    "    else:\n",
    "        return x.split('screenplay)')[-1].split(',')[2]"
   ]
  },
  {
   "cell_type": "code",
   "execution_count": 32,
   "id": "57de53b1",
   "metadata": {},
   "outputs": [],
   "source": [
    "df2019['actor_3_name'] = df2019['Cast and crew'].apply(lambda x:get_actor3(str(x)))"
   ]
  },
  {
   "cell_type": "code",
   "execution_count": 33,
   "id": "86aff535",
   "metadata": {},
   "outputs": [],
   "source": [
    "df2019.rename(columns={'Title':'movie_title'}, inplace=True)"
   ]
  },
  {
   "cell_type": "code",
   "execution_count": 35,
   "id": "29230735",
   "metadata": {},
   "outputs": [],
   "source": [
    "df2019_ = df2019.drop('Cast and crew', axis=1).copy()"
   ]
  },
  {
   "cell_type": "code",
   "execution_count": 36,
   "id": "eb8160a9",
   "metadata": {},
   "outputs": [],
   "source": [
    "df2019_['actor_1_name'].replace(np.nan, 'unknown',inplace=True)"
   ]
  },
  {
   "cell_type": "code",
   "execution_count": 37,
   "id": "a9ecfa1d",
   "metadata": {},
   "outputs": [],
   "source": [
    "df2019_['actor_2_name'].replace(np.nan, 'unknown',inplace=True)"
   ]
  },
  {
   "cell_type": "code",
   "execution_count": 38,
   "id": "15c40b46",
   "metadata": {},
   "outputs": [],
   "source": [
    "df2019_['actor_3_name'].replace(np.nan, 'unknown',inplace=True)"
   ]
  },
  {
   "cell_type": "code",
   "execution_count": 40,
   "id": "3b19c5f1",
   "metadata": {},
   "outputs": [],
   "source": [
    "df2019_['movie_title'] = df2019_['movie_title'].str.lower()"
   ]
  },
  {
   "cell_type": "code",
   "execution_count": 43,
   "id": "2f1cf916",
   "metadata": {},
   "outputs": [],
   "source": [
    "df2019_.rename(columns={'directors':'director_name'},inplace=True)"
   ]
  },
  {
   "cell_type": "code",
   "execution_count": 44,
   "id": "f4cdf72e",
   "metadata": {},
   "outputs": [],
   "source": [
    "df2019_['Combined'] = df2019_['movie_title'] + df2019_['actor_1_name']+ df2019_['actor_2_name']+ df2019_['actor_3_name']+df2019_['director_name']+ df2019_['genres']"
   ]
  },
  {
   "cell_type": "code",
   "execution_count": 47,
   "id": "04ac1693",
   "metadata": {},
   "outputs": [
    {
     "data": {
      "text/plain": [
       "movie_title      0\n",
       "genres           0\n",
       "director_name    0\n",
       "actor_1_name     0\n",
       "actor_2_name     0\n",
       "actor_3_name     0\n",
       "Combined         0\n",
       "dtype: int64"
      ]
     },
     "execution_count": 47,
     "metadata": {},
     "output_type": "execute_result"
    }
   ],
   "source": [
    "df2019_.isna().sum()"
   ]
  },
  {
   "cell_type": "code",
   "execution_count": null,
   "id": "0490776b",
   "metadata": {},
   "outputs": [],
   "source": []
  },
  {
   "cell_type": "code",
   "execution_count": null,
   "id": "8e6023fd",
   "metadata": {},
   "outputs": [],
   "source": []
  },
  {
   "cell_type": "code",
   "execution_count": null,
   "id": "549e33a3",
   "metadata": {},
   "outputs": [],
   "source": []
  },
  {
   "cell_type": "code",
   "execution_count": null,
   "id": "a535648e",
   "metadata": {},
   "outputs": [],
   "source": []
  },
  {
   "cell_type": "code",
   "execution_count": null,
   "id": "e70ac59f",
   "metadata": {},
   "outputs": [],
   "source": []
  },
  {
   "cell_type": "code",
   "execution_count": null,
   "id": "9296228e",
   "metadata": {},
   "outputs": [],
   "source": []
  },
  {
   "cell_type": "code",
   "execution_count": null,
   "id": "f808af00",
   "metadata": {},
   "outputs": [],
   "source": []
  },
  {
   "cell_type": "code",
   "execution_count": 45,
   "id": "42782d57",
   "metadata": {},
   "outputs": [],
   "source": [
    "df2019_.to_csv('Processed/FinalData3.csv', index=False)"
   ]
  },
  {
   "cell_type": "code",
   "execution_count": null,
   "id": "1c0bd425",
   "metadata": {},
   "outputs": [],
   "source": []
  }
 ],
 "metadata": {
  "kernelspec": {
   "display_name": "Python 3 (ipykernel)",
   "language": "python",
   "name": "python3"
  },
  "language_info": {
   "codemirror_mode": {
    "name": "ipython",
    "version": 3
   },
   "file_extension": ".py",
   "mimetype": "text/x-python",
   "name": "python",
   "nbconvert_exporter": "python",
   "pygments_lexer": "ipython3",
   "version": "3.9.7"
  }
 },
 "nbformat": 4,
 "nbformat_minor": 5
}
