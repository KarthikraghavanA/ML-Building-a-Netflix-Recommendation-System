{
 "cells": [
  {
   "cell_type": "markdown",
   "id": "affb81b5",
   "metadata": {},
   "source": [
    "# *Lab 4 - Netflix Recommendation System*"
   ]
  },
  {
   "cell_type": "code",
   "execution_count": 1,
   "id": "afac547e",
   "metadata": {},
   "outputs": [],
   "source": [
    "# Extrating features from Wikipedia"
   ]
  },
  {
   "cell_type": "code",
   "execution_count": 2,
   "id": "27090fbd",
   "metadata": {},
   "outputs": [],
   "source": [
    "import pandas as pd\n",
    "import numpy as np"
   ]
  },
  {
   "cell_type": "code",
   "execution_count": 11,
   "id": "f4675055",
   "metadata": {},
   "outputs": [],
   "source": [
    "link = 'https://en.wikipedia.org/wiki/List_of_American_films_of_2021'"
   ]
  },
  {
   "cell_type": "code",
   "execution_count": 12,
   "id": "767555c0",
   "metadata": {},
   "outputs": [],
   "source": [
    "df1 = pd.read_html(link)[2]\n",
    "df2 = pd.read_html(link)[3]\n",
    "df3 = pd.read_html(link)[4]\n",
    "df4 = pd.read_html(link)[5]"
   ]
  },
  {
   "cell_type": "code",
   "execution_count": 13,
   "id": "989cd177",
   "metadata": {},
   "outputs": [],
   "source": [
    "df = pd.concat([df1,df2,df3,df4]).reset_index(drop=True)"
   ]
  },
  {
   "cell_type": "code",
   "execution_count": 14,
   "id": "841fc3aa",
   "metadata": {},
   "outputs": [],
   "source": [
    "import tmdbv3api\n",
    "import json\n",
    "import requests\n",
    "\n",
    "tmdb = tmdbv3api.TMDb()"
   ]
  },
  {
   "cell_type": "code",
   "execution_count": 15,
   "id": "1368f8a3",
   "metadata": {},
   "outputs": [],
   "source": [
    "apiauth = '22396953bf97d94aad77322a4980e2d4'\n",
    "tmdb.api_key = apiauth"
   ]
  },
  {
   "cell_type": "code",
   "execution_count": 16,
   "id": "4085cb27",
   "metadata": {},
   "outputs": [],
   "source": [
    "from tmdbv3api import Movie\n",
    "\n",
    "def get_genre(x):\n",
    "    genres = []\n",
    "    result = Movie().search(x)\n",
    "    movie_id = result[0].id\n",
    "    response = requests.get(f'https://api.themoviedb.org/3/movie/{movie_id}?api_key={tmdb.api_key}')\n",
    "    data_json = response.json()\n",
    "    if data_json['genres']:\n",
    "        for i in range(0, len(data_json['genres'])):\n",
    "            genres.append(data_json['genres'][i]['name'])\n",
    "        return ' '.join(genres)\n",
    "    else:\n",
    "        np.nan"
   ]
  },
  {
   "cell_type": "code",
   "execution_count": 17,
   "id": "4dcc80b3",
   "metadata": {},
   "outputs": [],
   "source": [
    "# Extract genres"
   ]
  },
  {
   "cell_type": "code",
   "execution_count": null,
   "id": "60cac69b",
   "metadata": {},
   "outputs": [],
   "source": [
    "df['genres'] = df['Title'].apply(lambda x:get_genre(str(x)))"
   ]
  },
  {
   "cell_type": "code",
   "execution_count": null,
   "id": "24fa6ebb",
   "metadata": {},
   "outputs": [],
   "source": [
    "df2019 = df[['Title','Cast and crew','genres']].copy()"
   ]
  },
  {
   "cell_type": "code",
   "execution_count": null,
   "id": "40179174",
   "metadata": {},
   "outputs": [],
   "source": [
    "# Extract Director"
   ]
  },
  {
   "cell_type": "code",
   "execution_count": null,
   "id": "73b2c9aa",
   "metadata": {},
   "outputs": [],
   "source": [
    "def get_directors(x):\n",
    "    if '(director)' in x:\n",
    "        return x.split('(director); ')[0]\n",
    "    elif '(director/screenplay)' in x:\n",
    "        return x.split('(director/screenplay); ')[0]\n",
    "    else:\n",
    "        return x.split('(directors); ')[0]"
   ]
  },
  {
   "cell_type": "code",
   "execution_count": null,
   "id": "5d299a6a",
   "metadata": {},
   "outputs": [],
   "source": [
    "df2019['directors'] = df2019['Cast and crew'].apply(lambda x:get_directors(str(x)))"
   ]
  },
  {
   "cell_type": "code",
   "execution_count": null,
   "id": "992078f9",
   "metadata": {},
   "outputs": [],
   "source": [
    "# Extract Actor 1"
   ]
  },
  {
   "cell_type": "code",
   "execution_count": null,
   "id": "72ba9e14",
   "metadata": {},
   "outputs": [],
   "source": [
    "def get_actor1(x):\n",
    "    if 'screenplay)' in x:\n",
    "        return x.split('screenplay); ')[-1].split(',')[0]"
   ]
  },
  {
   "cell_type": "code",
   "execution_count": null,
   "id": "893b87e6",
   "metadata": {},
   "outputs": [],
   "source": [
    "df2019['actor_1_name'] = df2019['Cast and crew'].apply(lambda x:get_actor1(str(x)))"
   ]
  },
  {
   "cell_type": "code",
   "execution_count": null,
   "id": "6a58e8b8",
   "metadata": {},
   "outputs": [],
   "source": [
    "# Extract Actor 2"
   ]
  },
  {
   "cell_type": "code",
   "execution_count": null,
   "id": "f8f65016",
   "metadata": {},
   "outputs": [],
   "source": [
    "def get_actor2(x):\n",
    "    if len(x.split('screenplay);')[-1].split(', '))< 2:\n",
    "        return np.nan\n",
    "    else:\n",
    "        return x.split('screenplay);')[-1].split(',')[1]"
   ]
  },
  {
   "cell_type": "code",
   "execution_count": null,
   "id": "128d24f3",
   "metadata": {},
   "outputs": [],
   "source": [
    "df2019['Cast and crew']"
   ]
  },
  {
   "cell_type": "code",
   "execution_count": null,
   "id": "3fcc750a",
   "metadata": {},
   "outputs": [],
   "source": [
    "df2019['actor_2_name'] = df2019['Cast and crew'].apply(lambda x:get_actor2(str(x)))"
   ]
  },
  {
   "cell_type": "code",
   "execution_count": null,
   "id": "7f4580f9",
   "metadata": {},
   "outputs": [],
   "source": [
    "df2019['actor_2_name']"
   ]
  },
  {
   "cell_type": "code",
   "execution_count": null,
   "id": "dbd7c881",
   "metadata": {},
   "outputs": [],
   "source": [
    "# Extract Actor 3"
   ]
  },
  {
   "cell_type": "code",
   "execution_count": null,
   "id": "d793b71e",
   "metadata": {},
   "outputs": [],
   "source": [
    "def get_actor3(x):\n",
    "    if len(x.split('screenplay);')[-1].split(', '))< 3:\n",
    "        return np.nan\n",
    "    else:\n",
    "        return x.split('screenplay)')[-1].split(',')[2]"
   ]
  },
  {
   "cell_type": "code",
   "execution_count": null,
   "id": "57de53b1",
   "metadata": {},
   "outputs": [],
   "source": [
    "df2019['actor_3_name'] = df2019['Cast and crew'].apply(lambda x:get_actor3(str(x)))"
   ]
  },
  {
   "cell_type": "code",
   "execution_count": null,
   "id": "86aff535",
   "metadata": {},
   "outputs": [],
   "source": [
    "df2019.rename(columns={'Title':'movie_title'}, inplace=True)"
   ]
  },
  {
   "cell_type": "code",
   "execution_count": null,
   "id": "29230735",
   "metadata": {},
   "outputs": [],
   "source": [
    "df2019_ = df2019.drop('Cast and crew', axis=1).copy()"
   ]
  },
  {
   "cell_type": "code",
   "execution_count": null,
   "id": "eb8160a9",
   "metadata": {},
   "outputs": [],
   "source": [
    "df2019_['actor_1_name'].replace(np.nan, 'unknown',inplace=True)"
   ]
  },
  {
   "cell_type": "code",
   "execution_count": null,
   "id": "a9ecfa1d",
   "metadata": {},
   "outputs": [],
   "source": [
    "df2019_['actor_2_name'].replace(np.nan, 'unknown',inplace=True)"
   ]
  },
  {
   "cell_type": "code",
   "execution_count": null,
   "id": "15c40b46",
   "metadata": {},
   "outputs": [],
   "source": [
    "df2019_['actor_3_name'].replace(np.nan, 'unknown',inplace=True)"
   ]
  },
  {
   "cell_type": "code",
   "execution_count": null,
   "id": "3b19c5f1",
   "metadata": {},
   "outputs": [],
   "source": [
    "df2019_['movie_title'] = df2019_['movie_title'].str.lower()"
   ]
  },
  {
   "cell_type": "code",
   "execution_count": null,
   "id": "2f1cf916",
   "metadata": {},
   "outputs": [],
   "source": [
    "df2019_.rename(columns={'directors':'director_name'},inplace=True)"
   ]
  },
  {
   "cell_type": "code",
   "execution_count": null,
   "id": "f4cdf72e",
   "metadata": {},
   "outputs": [],
   "source": [
    "df2019_['Combined'] = df2019_['movie_title'] + df2019_['actor_1_name']+ df2019_['actor_2_name']+ df2019_['actor_3_name']+df2019_['director_name']+ df2019_['genres']"
   ]
  },
  {
   "cell_type": "code",
   "execution_count": null,
   "id": "04ac1693",
   "metadata": {},
   "outputs": [],
   "source": [
    "df2019_.isna().sum()"
   ]
  },
  {
   "cell_type": "code",
   "execution_count": null,
   "id": "0490776b",
   "metadata": {},
   "outputs": [],
   "source": []
  },
  {
   "cell_type": "code",
   "execution_count": null,
   "id": "8e6023fd",
   "metadata": {},
   "outputs": [],
   "source": []
  },
  {
   "cell_type": "code",
   "execution_count": null,
   "id": "549e33a3",
   "metadata": {},
   "outputs": [],
   "source": []
  },
  {
   "cell_type": "code",
   "execution_count": null,
   "id": "a535648e",
   "metadata": {},
   "outputs": [],
   "source": []
  },
  {
   "cell_type": "code",
   "execution_count": null,
   "id": "e70ac59f",
   "metadata": {},
   "outputs": [],
   "source": []
  },
  {
   "cell_type": "code",
   "execution_count": null,
   "id": "9296228e",
   "metadata": {},
   "outputs": [],
   "source": []
  },
  {
   "cell_type": "code",
   "execution_count": null,
   "id": "f808af00",
   "metadata": {},
   "outputs": [],
   "source": []
  },
  {
   "cell_type": "code",
   "execution_count": null,
   "id": "42782d57",
   "metadata": {},
   "outputs": [],
   "source": [
    "df2019_.to_csv('Processed/FinalData3.csv', index=False)"
   ]
  },
  {
   "cell_type": "code",
   "execution_count": null,
   "id": "1c0bd425",
   "metadata": {},
   "outputs": [],
   "source": []
  }
 ],
 "metadata": {
  "kernelspec": {
   "display_name": "Python 3 (ipykernel)",
   "language": "python",
   "name": "python3"
  },
  "language_info": {
   "codemirror_mode": {
    "name": "ipython",
    "version": 3
   },
   "file_extension": ".py",
   "mimetype": "text/x-python",
   "name": "python",
   "nbconvert_exporter": "python",
   "pygments_lexer": "ipython3",
   "version": "3.9.7"
  }
 },
 "nbformat": 4,
 "nbformat_minor": 5
}
